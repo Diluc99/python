{
  "nbformat": 4,
  "nbformat_minor": 0,
  "metadata": {
    "colab": {
      "provenance": [],
      "authorship_tag": "ABX9TyNXPnMkFSLF0LiiKXv7HTie",
      "include_colab_link": true
    },
    "kernelspec": {
      "name": "python3",
      "display_name": "Python 3"
    },
    "language_info": {
      "name": "python"
    }
  },
  "cells": [
    {
      "cell_type": "markdown",
      "metadata": {
        "id": "view-in-github",
        "colab_type": "text"
      },
      "source": [
        "<a href=\"https://colab.research.google.com/github/Diluc99/python/blob/main/Exp13_14.ipynb\" target=\"_parent\"><img src=\"https://colab.research.google.com/assets/colab-badge.svg\" alt=\"Open In Colab\"/></a>"
      ]
    },
    {
      "cell_type": "code",
      "execution_count": null,
      "metadata": {
        "colab": {
          "base_uri": "https://localhost:8080/"
        },
        "id": "9uZdv36DszIK",
        "outputId": "d7fc35fc-e2d0-4914-d0ac-71945b4a8876"
      },
      "outputs": [
        {
          "output_type": "stream",
          "name": "stdout",
          "text": [
            "0    1\n",
            "1    2\n",
            "2    3\n",
            "3    4\n",
            "4    5\n",
            "dtype: int64\n"
          ]
        }
      ],
      "source": [
        "import pandas as pd\n",
        "\n",
        "arr = [1, 2, 3, 4, 5]\n",
        "series = pd.Series(arr)\n",
        "print(series)\n"
      ]
    },
    {
      "cell_type": "code",
      "source": [
        "import pandas as pd\n",
        "\n",
        "arr = [1, 2, 3, 4, 5]\n",
        "index = ['a', 'b', 'c', 'd', 'e']\n",
        "series = pd.Series(arr, index=index)\n",
        "print(series)\n"
      ],
      "metadata": {
        "colab": {
          "base_uri": "https://localhost:8080/"
        },
        "id": "1hi3NRH5uzOP",
        "outputId": "e1c9efa1-a7a2-44da-d8ce-cc362618153d"
      },
      "execution_count": null,
      "outputs": [
        {
          "output_type": "stream",
          "name": "stdout",
          "text": [
            "a    1\n",
            "b    2\n",
            "c    3\n",
            "d    4\n",
            "e    5\n",
            "dtype: int64\n"
          ]
        }
      ]
    },
    {
      "cell_type": "code",
      "source": [
        "import pandas as pd\n",
        "\n",
        "lst = [10, 20, 30, 40, 50]\n",
        "series = pd.Series(lst)\n",
        "print(series)\n"
      ],
      "metadata": {
        "colab": {
          "base_uri": "https://localhost:8080/"
        },
        "id": "W87pvyWevfan",
        "outputId": "9e1c71f5-0f1a-4b29-cf91-fd254fcd1107"
      },
      "execution_count": null,
      "outputs": [
        {
          "output_type": "stream",
          "name": "stdout",
          "text": [
            "0    10\n",
            "1    20\n",
            "2    30\n",
            "3    40\n",
            "4    50\n",
            "dtype: int64\n"
          ]
        }
      ]
    },
    {
      "cell_type": "code",
      "source": [
        "import pandas as pd\n",
        "\n",
        "data = {'a': 10, 'b': 20, 'c': 30, 'd': 40, 'e': 50}\n",
        "series = pd.Series(data)\n",
        "print(series)\n"
      ],
      "metadata": {
        "colab": {
          "base_uri": "https://localhost:8080/"
        },
        "id": "yUL5v8KGvfl0",
        "outputId": "f6de6250-c8a2-4032-ca9f-7dc9b940f6d2"
      },
      "execution_count": null,
      "outputs": [
        {
          "output_type": "stream",
          "name": "stdout",
          "text": [
            "a    10\n",
            "b    20\n",
            "c    30\n",
            "d    40\n",
            "e    50\n",
            "dtype: int64\n"
          ]
        }
      ]
    },
    {
      "cell_type": "code",
      "source": [
        "import numpy as np\n",
        "\n",
        "# np.array()\n",
        "arr = np.array([1, 2, 3, 4, 5])\n",
        "print(arr)\n",
        "\n",
        "# np.arange()\n",
        "arr = np.arange(10)\n",
        "print(arr)\n",
        "\n",
        "# np.zeros()\n",
        "arr = np.zeros(5)\n",
        "print(arr)\n",
        "\n",
        "# np.ones()\n",
        "arr = np.ones(5)\n",
        "print(arr)\n",
        "\n",
        "# np.random.rand()\n",
        "arr = np.random.rand(5)\n",
        "print(arr)\n",
        "\n",
        "# np.max()\n",
        "max_val = np.max(arr)\n",
        "print(max_val)\n",
        "\n",
        "# np.min()\n",
        "min_val = np.min(arr)\n",
        "print(min_val)\n"
      ],
      "metadata": {
        "colab": {
          "base_uri": "https://localhost:8080/"
        },
        "id": "-mzTcfwHwVJj",
        "outputId": "5f6aaabf-dbdf-4d69-f998-6c297b0dee7c"
      },
      "execution_count": null,
      "outputs": [
        {
          "output_type": "stream",
          "name": "stdout",
          "text": [
            "[1 2 3 4 5]\n",
            "[0 1 2 3 4 5 6 7 8 9]\n",
            "[0. 0. 0. 0. 0.]\n",
            "[1. 1. 1. 1. 1.]\n",
            "[0.82530232 0.79984371 0.00698863 0.3049354  0.54900157]\n",
            "0.825302319995285\n",
            "0.006988629168414584\n"
          ]
        }
      ]
    },
    {
      "cell_type": "code",
      "source": [
        "import pandas as pd\n",
        "\n",
        "data = [1, 2, 3, 4, 5]\n",
        "series = pd.Series(data)\n",
        "\n",
        "# sum()\n",
        "print(series.sum())\n",
        "\n",
        "# mean()\n",
        "print(series.mean())\n",
        "\n",
        "# median()\n",
        "print(series.median())\n",
        "\n",
        "# std()\n",
        "print(series.std())\n",
        "\n",
        "# var()\n",
        "print(series.var())\n",
        "\n",
        "# min(), max()\n",
        "print(series.min(), series.max())\n",
        "\n",
        "# iloc[]\n",
        "print(series.iloc[1:3])\n",
        "\n",
        "# loc[]\n",
        "series_with_index = pd.Series(data, index=['a', 'b', 'c', 'd', 'e'])\n",
        "print(series_with_index.loc['b':'d'])\n",
        "\n",
        "# str.contains (for string series)\n",
        "str_series = pd.Series(['apple', 'banana', 'cherry', 'date'])\n",
        "print(str_series.str.contains('a'))\n"
      ],
      "metadata": {
        "colab": {
          "base_uri": "https://localhost:8080/"
        },
        "id": "GQaXlD4Ky3Wq",
        "outputId": "c62426ea-93b1-4016-af6c-5b3d93753990"
      },
      "execution_count": null,
      "outputs": [
        {
          "output_type": "stream",
          "name": "stdout",
          "text": [
            "15\n",
            "3.0\n",
            "3.0\n",
            "1.5811388300841898\n",
            "2.5\n",
            "1 5\n",
            "1    2\n",
            "2    3\n",
            "dtype: int64\n",
            "b    2\n",
            "c    3\n",
            "d    4\n",
            "dtype: int64\n",
            "0     True\n",
            "1     True\n",
            "2    False\n",
            "3     True\n",
            "dtype: bool\n"
          ]
        }
      ]
    }
  ]
}